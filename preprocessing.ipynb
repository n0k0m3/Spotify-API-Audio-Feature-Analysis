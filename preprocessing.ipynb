{
 "metadata": {
  "language_info": {
   "codemirror_mode": {
    "name": "ipython",
    "version": 3
   },
   "file_extension": ".py",
   "mimetype": "text/x-python",
   "name": "python",
   "nbconvert_exporter": "python",
   "pygments_lexer": "ipython3",
   "version": "3.8.7"
  },
  "orig_nbformat": 2,
  "kernelspec": {
   "name": "python387jvsc74a57bd0d9477b7c3e53fe350caaf018589d4ac784d679469f8203df701bf29ae8e1461a",
   "display_name": "Python 3.8.7 64-bit"
  }
 },
 "nbformat": 4,
 "nbformat_minor": 2,
 "cells": [
  {
   "source": [
    "# Preprocessing data"
   ],
   "cell_type": "markdown",
   "metadata": {}
  },
  {
   "cell_type": "code",
   "execution_count": 1,
   "metadata": {},
   "outputs": [],
   "source": [
    "import pandas as pd\n",
    "import numpy as np\n",
    "from tqdm import tqdm"
   ]
  },
  {
   "cell_type": "code",
   "execution_count": 2,
   "metadata": {},
   "outputs": [],
   "source": [
    "df = pd.read_csv(\"raw_dataset/tracks.csv\")"
   ]
  },
  {
   "cell_type": "code",
   "execution_count": 3,
   "metadata": {},
   "outputs": [
    {
     "output_type": "execute_result",
     "data": {
      "text/plain": [
       "                            id                                 name  \\\n",
       "0       35iwgR4jXetI318WEWsa1Q                                Carve   \n",
       "1       021ht4sdgPcrDgSk7JTbKY  Capítulo 2.16 - Banquero Anarquista   \n",
       "2       07A5yehtSnoedViJAZkNnc   Vivo para Quererte - Remasterizado   \n",
       "3       08FmqUhxtyLTn6pAh6bk45        El Prisionero - Remasterizado   \n",
       "4       08y9GfoqCWfOGsKdwojr5e                  Lady of the Evening   \n",
       "...                        ...                                  ...   \n",
       "586667  5rgu12WBIHQtvej2MdHSH0                                  云与海   \n",
       "586668  0NuWgxEp51CutD2pJoF4OM                                blind   \n",
       "586669  27Y1N4Q4U3EfDU5Ubw8ws2            What They'll Say About Us   \n",
       "586670  45XJsGpFTyzbzeWK8VzR8S                      A Day At A Time   \n",
       "586671  5Ocn6dZ3BJFPWh4ylwFXtn                     Mar de Emociones   \n",
       "\n",
       "        popularity  duration_ms  explicit                          artists  \\\n",
       "0                6       126903         0                          ['Uli']   \n",
       "1                0        98200         0              ['Fernando Pessoa']   \n",
       "2                0       181640         0              ['Ignacio Corsini']   \n",
       "3                0       176907         0              ['Ignacio Corsini']   \n",
       "4                0       163080         0                  ['Dick Haymes']   \n",
       "...            ...          ...       ...                              ...   \n",
       "586667          50       258267         0                      ['阿YueYue']   \n",
       "586668          72       153293         0                   ['ROLE MODEL']   \n",
       "586669          70       187601         0                      ['FINNEAS']   \n",
       "586670          58       142003         0  ['Gentle Bones', 'Clara Benin']   \n",
       "586671          38       214360         0                    ['Afrosound']   \n",
       "\n",
       "                                               id_artists release_date  \\\n",
       "0                              ['45tIt06XoI0Iio4LBEVpls']   1922-02-22   \n",
       "1                              ['14jtPCOoNZwquk5wd9DxrY']   1922-06-01   \n",
       "2                              ['5LiOoJbxVSAMkBS2fUm3X2']   1922-03-21   \n",
       "3                              ['5LiOoJbxVSAMkBS2fUm3X2']   1922-03-21   \n",
       "4                              ['3BiJGZsyX9sJchTqcSA7Su']         1922   \n",
       "...                                                   ...          ...   \n",
       "586667                         ['1QLBXKM5GCpyQQSVMNZqrZ']   2020-09-26   \n",
       "586668                         ['1dy5WNgIKQU6ezkpZs4y8z']   2020-10-21   \n",
       "586669                         ['37M5pPGs6V1fchFJSgCguX']   2020-09-02   \n",
       "586670  ['4jGPdu95icCKVF31CcFKbS', '5ebPSE9YI5aLeZ1Z2g...   2021-03-05   \n",
       "586671                         ['0i4Qda0k4nf7jnNHmSNpYv']   2015-07-01   \n",
       "\n",
       "        danceability  energy  key  loudness  mode  speechiness  acousticness  \\\n",
       "0              0.645  0.4450    0   -13.338     1       0.4510         0.674   \n",
       "1              0.695  0.2630    0   -22.136     1       0.9570         0.797   \n",
       "2              0.434  0.1770    1   -21.180     1       0.0512         0.994   \n",
       "3              0.321  0.0946    7   -27.961     1       0.0504         0.995   \n",
       "4              0.402  0.1580    3   -16.900     0       0.0390         0.989   \n",
       "...              ...     ...  ...       ...   ...          ...           ...   \n",
       "586667         0.560  0.5180    0    -7.471     0       0.0292         0.785   \n",
       "586668         0.765  0.6630    0    -5.223     1       0.0652         0.141   \n",
       "586669         0.535  0.3140    7   -12.823     0       0.0408         0.895   \n",
       "586670         0.696  0.6150   10    -6.212     1       0.0345         0.206   \n",
       "586671         0.686  0.7230    6    -7.067     1       0.0363         0.105   \n",
       "\n",
       "        instrumentalness  liveness  valence    tempo  time_signature  \n",
       "0               0.744000    0.1510   0.1270  104.851               3  \n",
       "1               0.000000    0.1480   0.6550  102.009               1  \n",
       "2               0.021800    0.2120   0.4570  130.418               5  \n",
       "3               0.918000    0.1040   0.3970  169.980               3  \n",
       "4               0.130000    0.3110   0.1960  103.220               4  \n",
       "...                  ...       ...      ...      ...             ...  \n",
       "586667          0.000000    0.0648   0.2110  131.896               4  \n",
       "586668          0.000297    0.0924   0.6860  150.091               4  \n",
       "586669          0.000150    0.0874   0.0663  145.095               4  \n",
       "586670          0.000003    0.3050   0.4380   90.029               4  \n",
       "586671          0.000000    0.2640   0.9750  112.204               4  \n",
       "\n",
       "[586672 rows x 20 columns]"
      ],
      "text/html": "<div>\n<style scoped>\n    .dataframe tbody tr th:only-of-type {\n        vertical-align: middle;\n    }\n\n    .dataframe tbody tr th {\n        vertical-align: top;\n    }\n\n    .dataframe thead th {\n        text-align: right;\n    }\n</style>\n<table border=\"1\" class=\"dataframe\">\n  <thead>\n    <tr style=\"text-align: right;\">\n      <th></th>\n      <th>id</th>\n      <th>name</th>\n      <th>popularity</th>\n      <th>duration_ms</th>\n      <th>explicit</th>\n      <th>artists</th>\n      <th>id_artists</th>\n      <th>release_date</th>\n      <th>danceability</th>\n      <th>energy</th>\n      <th>key</th>\n      <th>loudness</th>\n      <th>mode</th>\n      <th>speechiness</th>\n      <th>acousticness</th>\n      <th>instrumentalness</th>\n      <th>liveness</th>\n      <th>valence</th>\n      <th>tempo</th>\n      <th>time_signature</th>\n    </tr>\n  </thead>\n  <tbody>\n    <tr>\n      <th>0</th>\n      <td>35iwgR4jXetI318WEWsa1Q</td>\n      <td>Carve</td>\n      <td>6</td>\n      <td>126903</td>\n      <td>0</td>\n      <td>['Uli']</td>\n      <td>['45tIt06XoI0Iio4LBEVpls']</td>\n      <td>1922-02-22</td>\n      <td>0.645</td>\n      <td>0.4450</td>\n      <td>0</td>\n      <td>-13.338</td>\n      <td>1</td>\n      <td>0.4510</td>\n      <td>0.674</td>\n      <td>0.744000</td>\n      <td>0.1510</td>\n      <td>0.1270</td>\n      <td>104.851</td>\n      <td>3</td>\n    </tr>\n    <tr>\n      <th>1</th>\n      <td>021ht4sdgPcrDgSk7JTbKY</td>\n      <td>Capítulo 2.16 - Banquero Anarquista</td>\n      <td>0</td>\n      <td>98200</td>\n      <td>0</td>\n      <td>['Fernando Pessoa']</td>\n      <td>['14jtPCOoNZwquk5wd9DxrY']</td>\n      <td>1922-06-01</td>\n      <td>0.695</td>\n      <td>0.2630</td>\n      <td>0</td>\n      <td>-22.136</td>\n      <td>1</td>\n      <td>0.9570</td>\n      <td>0.797</td>\n      <td>0.000000</td>\n      <td>0.1480</td>\n      <td>0.6550</td>\n      <td>102.009</td>\n      <td>1</td>\n    </tr>\n    <tr>\n      <th>2</th>\n      <td>07A5yehtSnoedViJAZkNnc</td>\n      <td>Vivo para Quererte - Remasterizado</td>\n      <td>0</td>\n      <td>181640</td>\n      <td>0</td>\n      <td>['Ignacio Corsini']</td>\n      <td>['5LiOoJbxVSAMkBS2fUm3X2']</td>\n      <td>1922-03-21</td>\n      <td>0.434</td>\n      <td>0.1770</td>\n      <td>1</td>\n      <td>-21.180</td>\n      <td>1</td>\n      <td>0.0512</td>\n      <td>0.994</td>\n      <td>0.021800</td>\n      <td>0.2120</td>\n      <td>0.4570</td>\n      <td>130.418</td>\n      <td>5</td>\n    </tr>\n    <tr>\n      <th>3</th>\n      <td>08FmqUhxtyLTn6pAh6bk45</td>\n      <td>El Prisionero - Remasterizado</td>\n      <td>0</td>\n      <td>176907</td>\n      <td>0</td>\n      <td>['Ignacio Corsini']</td>\n      <td>['5LiOoJbxVSAMkBS2fUm3X2']</td>\n      <td>1922-03-21</td>\n      <td>0.321</td>\n      <td>0.0946</td>\n      <td>7</td>\n      <td>-27.961</td>\n      <td>1</td>\n      <td>0.0504</td>\n      <td>0.995</td>\n      <td>0.918000</td>\n      <td>0.1040</td>\n      <td>0.3970</td>\n      <td>169.980</td>\n      <td>3</td>\n    </tr>\n    <tr>\n      <th>4</th>\n      <td>08y9GfoqCWfOGsKdwojr5e</td>\n      <td>Lady of the Evening</td>\n      <td>0</td>\n      <td>163080</td>\n      <td>0</td>\n      <td>['Dick Haymes']</td>\n      <td>['3BiJGZsyX9sJchTqcSA7Su']</td>\n      <td>1922</td>\n      <td>0.402</td>\n      <td>0.1580</td>\n      <td>3</td>\n      <td>-16.900</td>\n      <td>0</td>\n      <td>0.0390</td>\n      <td>0.989</td>\n      <td>0.130000</td>\n      <td>0.3110</td>\n      <td>0.1960</td>\n      <td>103.220</td>\n      <td>4</td>\n    </tr>\n    <tr>\n      <th>...</th>\n      <td>...</td>\n      <td>...</td>\n      <td>...</td>\n      <td>...</td>\n      <td>...</td>\n      <td>...</td>\n      <td>...</td>\n      <td>...</td>\n      <td>...</td>\n      <td>...</td>\n      <td>...</td>\n      <td>...</td>\n      <td>...</td>\n      <td>...</td>\n      <td>...</td>\n      <td>...</td>\n      <td>...</td>\n      <td>...</td>\n      <td>...</td>\n      <td>...</td>\n    </tr>\n    <tr>\n      <th>586667</th>\n      <td>5rgu12WBIHQtvej2MdHSH0</td>\n      <td>云与海</td>\n      <td>50</td>\n      <td>258267</td>\n      <td>0</td>\n      <td>['阿YueYue']</td>\n      <td>['1QLBXKM5GCpyQQSVMNZqrZ']</td>\n      <td>2020-09-26</td>\n      <td>0.560</td>\n      <td>0.5180</td>\n      <td>0</td>\n      <td>-7.471</td>\n      <td>0</td>\n      <td>0.0292</td>\n      <td>0.785</td>\n      <td>0.000000</td>\n      <td>0.0648</td>\n      <td>0.2110</td>\n      <td>131.896</td>\n      <td>4</td>\n    </tr>\n    <tr>\n      <th>586668</th>\n      <td>0NuWgxEp51CutD2pJoF4OM</td>\n      <td>blind</td>\n      <td>72</td>\n      <td>153293</td>\n      <td>0</td>\n      <td>['ROLE MODEL']</td>\n      <td>['1dy5WNgIKQU6ezkpZs4y8z']</td>\n      <td>2020-10-21</td>\n      <td>0.765</td>\n      <td>0.6630</td>\n      <td>0</td>\n      <td>-5.223</td>\n      <td>1</td>\n      <td>0.0652</td>\n      <td>0.141</td>\n      <td>0.000297</td>\n      <td>0.0924</td>\n      <td>0.6860</td>\n      <td>150.091</td>\n      <td>4</td>\n    </tr>\n    <tr>\n      <th>586669</th>\n      <td>27Y1N4Q4U3EfDU5Ubw8ws2</td>\n      <td>What They'll Say About Us</td>\n      <td>70</td>\n      <td>187601</td>\n      <td>0</td>\n      <td>['FINNEAS']</td>\n      <td>['37M5pPGs6V1fchFJSgCguX']</td>\n      <td>2020-09-02</td>\n      <td>0.535</td>\n      <td>0.3140</td>\n      <td>7</td>\n      <td>-12.823</td>\n      <td>0</td>\n      <td>0.0408</td>\n      <td>0.895</td>\n      <td>0.000150</td>\n      <td>0.0874</td>\n      <td>0.0663</td>\n      <td>145.095</td>\n      <td>4</td>\n    </tr>\n    <tr>\n      <th>586670</th>\n      <td>45XJsGpFTyzbzeWK8VzR8S</td>\n      <td>A Day At A Time</td>\n      <td>58</td>\n      <td>142003</td>\n      <td>0</td>\n      <td>['Gentle Bones', 'Clara Benin']</td>\n      <td>['4jGPdu95icCKVF31CcFKbS', '5ebPSE9YI5aLeZ1Z2g...</td>\n      <td>2021-03-05</td>\n      <td>0.696</td>\n      <td>0.6150</td>\n      <td>10</td>\n      <td>-6.212</td>\n      <td>1</td>\n      <td>0.0345</td>\n      <td>0.206</td>\n      <td>0.000003</td>\n      <td>0.3050</td>\n      <td>0.4380</td>\n      <td>90.029</td>\n      <td>4</td>\n    </tr>\n    <tr>\n      <th>586671</th>\n      <td>5Ocn6dZ3BJFPWh4ylwFXtn</td>\n      <td>Mar de Emociones</td>\n      <td>38</td>\n      <td>214360</td>\n      <td>0</td>\n      <td>['Afrosound']</td>\n      <td>['0i4Qda0k4nf7jnNHmSNpYv']</td>\n      <td>2015-07-01</td>\n      <td>0.686</td>\n      <td>0.7230</td>\n      <td>6</td>\n      <td>-7.067</td>\n      <td>1</td>\n      <td>0.0363</td>\n      <td>0.105</td>\n      <td>0.000000</td>\n      <td>0.2640</td>\n      <td>0.9750</td>\n      <td>112.204</td>\n      <td>4</td>\n    </tr>\n  </tbody>\n</table>\n<p>586672 rows × 20 columns</p>\n</div>"
     },
     "metadata": {},
     "execution_count": 3
    }
   ],
   "source": [
    "df"
   ]
  },
  {
   "cell_type": "code",
   "execution_count": 5,
   "metadata": {},
   "outputs": [],
   "source": [
    "new_df = df.drop(columns=[\"name\",\"popularity\",\"duration_ms\",\"artists\",\"id_artists\",\"release_date\"])\n",
    "new_df[\"sample_mp3_url\"]=\"\""
   ]
  },
  {
   "source": [
    "# Use Spotify API to get 30 seconds sample audio URL"
   ],
   "cell_type": "markdown",
   "metadata": {}
  },
  {
   "cell_type": "code",
   "execution_count": 36,
   "metadata": {},
   "outputs": [
    {
     "output_type": "stream",
     "name": "stdout",
     "text": [
      "https://p.scdn.co/mp3-preview/2f41db376b64c4b148cf426ef9a86e16ebcc92d9?cid=4ffd8b3c6aac481ea6b01a48d4f6d478\nhttps://p.scdn.co/mp3-preview/d9c4623d97c4e872eccefae6bfa97a46094cc481?cid=4ffd8b3c6aac481ea6b01a48d4f6d478\n"
     ]
    }
   ],
   "source": [
    "import spotipy\n",
    "from spotipy.oauth2 import SpotifyClientCredentials\n",
    "import json\n",
    "\n",
    "with open(\"credentials.json\",\"r\") as f:\n",
    "    credentials = json.loads(f.read())\n",
    "\n",
    "auth_manager = SpotifyClientCredentials(client_id=credentials[\"client_id\"], client_secret=credentials[\"client_secret\"])\n",
    "sp = spotipy.Spotify(auth_manager=auth_manager)\n",
    "\n",
    "result = sp.tracks(tracks=[\"35iwgR4jXetI318WEWsa1Q\",\"021ht4sdgPcrDgSk7JTbKY\"])\n",
    "\n",
    "for track in result[\"tracks\"]:\n",
    "    print(track[\"preview_url\"])"
   ]
  },
  {
   "cell_type": "code",
   "execution_count": 97,
   "metadata": {},
   "outputs": [
    {
     "output_type": "stream",
     "name": "stderr",
     "text": [
      "  0%|          | 7/11734 [00:02<1:04:05,  3.05it/s]\n"
     ]
    },
    {
     "output_type": "error",
     "ename": "KeyboardInterrupt",
     "evalue": "",
     "traceback": [
      "\u001b[1;31m---------------------------------------------------------------------------\u001b[0m",
      "\u001b[1;31mKeyboardInterrupt\u001b[0m                         Traceback (most recent call last)",
      "\u001b[1;32m<ipython-input-97-e72dd2ca4a65>\u001b[0m in \u001b[0;36m<module>\u001b[1;34m\u001b[0m\n\u001b[0;32m      2\u001b[0m \u001b[1;32mfor\u001b[0m \u001b[0mbatch_i\u001b[0m \u001b[1;32min\u001b[0m \u001b[0mtqdm\u001b[0m\u001b[1;33m(\u001b[0m\u001b[0mrange\u001b[0m\u001b[1;33m(\u001b[0m\u001b[0mlen\u001b[0m\u001b[1;33m(\u001b[0m\u001b[0mnew_df\u001b[0m\u001b[1;33m[\u001b[0m\u001b[1;34m\"id\"\u001b[0m\u001b[1;33m]\u001b[0m\u001b[1;33m)\u001b[0m\u001b[1;33m//\u001b[0m\u001b[1;36m50\u001b[0m\u001b[1;33m+\u001b[0m\u001b[1;36m1\u001b[0m\u001b[1;33m)\u001b[0m\u001b[1;33m)\u001b[0m\u001b[1;33m:\u001b[0m\u001b[1;33m\u001b[0m\u001b[1;33m\u001b[0m\u001b[0m\n\u001b[0;32m      3\u001b[0m     \u001b[0mtracks\u001b[0m \u001b[1;33m=\u001b[0m \u001b[0mnew_df\u001b[0m\u001b[1;33m[\u001b[0m\u001b[1;34m\"id\"\u001b[0m\u001b[1;33m]\u001b[0m\u001b[1;33m[\u001b[0m\u001b[0mbatch_i\u001b[0m\u001b[1;33m*\u001b[0m\u001b[1;36m50\u001b[0m\u001b[1;33m:\u001b[0m\u001b[0mbatch_i\u001b[0m\u001b[1;33m*\u001b[0m\u001b[1;36m50\u001b[0m\u001b[1;33m+\u001b[0m\u001b[1;36m50\u001b[0m\u001b[1;33m]\u001b[0m\u001b[1;33m\u001b[0m\u001b[1;33m\u001b[0m\u001b[0m\n\u001b[1;32m----> 4\u001b[1;33m     \u001b[0mresult\u001b[0m \u001b[1;33m=\u001b[0m \u001b[0msp\u001b[0m\u001b[1;33m.\u001b[0m\u001b[0mtracks\u001b[0m\u001b[1;33m(\u001b[0m\u001b[0mtracks\u001b[0m\u001b[1;33m=\u001b[0m\u001b[0mtracks\u001b[0m\u001b[1;33m)\u001b[0m\u001b[1;33m\u001b[0m\u001b[1;33m\u001b[0m\u001b[0m\n\u001b[0m\u001b[0;32m      5\u001b[0m     \u001b[1;32mfor\u001b[0m \u001b[0mi\u001b[0m \u001b[1;32min\u001b[0m \u001b[0mrange\u001b[0m\u001b[1;33m(\u001b[0m\u001b[0mlen\u001b[0m\u001b[1;33m(\u001b[0m\u001b[0mresult\u001b[0m\u001b[1;33m[\u001b[0m\u001b[1;34m\"tracks\"\u001b[0m\u001b[1;33m]\u001b[0m\u001b[1;33m)\u001b[0m\u001b[1;33m)\u001b[0m\u001b[1;33m:\u001b[0m\u001b[1;33m\u001b[0m\u001b[1;33m\u001b[0m\u001b[0m\n\u001b[0;32m      6\u001b[0m         \u001b[0mnew_df\u001b[0m\u001b[1;33m.\u001b[0m\u001b[0mloc\u001b[0m\u001b[1;33m[\u001b[0m\u001b[0mbatch_i\u001b[0m\u001b[1;33m*\u001b[0m\u001b[1;36m50\u001b[0m\u001b[1;33m+\u001b[0m\u001b[0mi\u001b[0m\u001b[1;33m,\u001b[0m\u001b[1;34m\"sample_mp3_url\"\u001b[0m\u001b[1;33m]\u001b[0m\u001b[1;33m=\u001b[0m\u001b[0mresult\u001b[0m\u001b[1;33m[\u001b[0m\u001b[1;34m\"tracks\"\u001b[0m\u001b[1;33m]\u001b[0m\u001b[1;33m[\u001b[0m\u001b[0mi\u001b[0m\u001b[1;33m]\u001b[0m\u001b[1;33m[\u001b[0m\u001b[1;34m\"preview_url\"\u001b[0m\u001b[1;33m]\u001b[0m\u001b[1;33m\u001b[0m\u001b[1;33m\u001b[0m\u001b[0m\n",
      "\u001b[1;32m~\\AppData\\Local\\Programs\\Python\\Python38\\lib\\site-packages\\spotipy\\client.py\u001b[0m in \u001b[0;36mtracks\u001b[1;34m(self, tracks, market)\u001b[0m\n\u001b[0;32m    348\u001b[0m \u001b[1;33m\u001b[0m\u001b[0m\n\u001b[0;32m    349\u001b[0m         \u001b[0mtlist\u001b[0m \u001b[1;33m=\u001b[0m \u001b[1;33m[\u001b[0m\u001b[0mself\u001b[0m\u001b[1;33m.\u001b[0m\u001b[0m_get_id\u001b[0m\u001b[1;33m(\u001b[0m\u001b[1;34m\"track\"\u001b[0m\u001b[1;33m,\u001b[0m \u001b[0mt\u001b[0m\u001b[1;33m)\u001b[0m \u001b[1;32mfor\u001b[0m \u001b[0mt\u001b[0m \u001b[1;32min\u001b[0m \u001b[0mtracks\u001b[0m\u001b[1;33m]\u001b[0m\u001b[1;33m\u001b[0m\u001b[1;33m\u001b[0m\u001b[0m\n\u001b[1;32m--> 350\u001b[1;33m         \u001b[1;32mreturn\u001b[0m \u001b[0mself\u001b[0m\u001b[1;33m.\u001b[0m\u001b[0m_get\u001b[0m\u001b[1;33m(\u001b[0m\u001b[1;34m\"tracks/?ids=\"\u001b[0m \u001b[1;33m+\u001b[0m \u001b[1;34m\",\"\u001b[0m\u001b[1;33m.\u001b[0m\u001b[0mjoin\u001b[0m\u001b[1;33m(\u001b[0m\u001b[0mtlist\u001b[0m\u001b[1;33m)\u001b[0m\u001b[1;33m,\u001b[0m \u001b[0mmarket\u001b[0m\u001b[1;33m=\u001b[0m\u001b[0mmarket\u001b[0m\u001b[1;33m)\u001b[0m\u001b[1;33m\u001b[0m\u001b[1;33m\u001b[0m\u001b[0m\n\u001b[0m\u001b[0;32m    351\u001b[0m \u001b[1;33m\u001b[0m\u001b[0m\n\u001b[0;32m    352\u001b[0m     \u001b[1;32mdef\u001b[0m \u001b[0martist\u001b[0m\u001b[1;33m(\u001b[0m\u001b[0mself\u001b[0m\u001b[1;33m,\u001b[0m \u001b[0martist_id\u001b[0m\u001b[1;33m)\u001b[0m\u001b[1;33m:\u001b[0m\u001b[1;33m\u001b[0m\u001b[1;33m\u001b[0m\u001b[0m\n",
      "\u001b[1;32m~\\AppData\\Local\\Programs\\Python\\Python38\\lib\\site-packages\\spotipy\\client.py\u001b[0m in \u001b[0;36m_get\u001b[1;34m(self, url, args, payload, **kwargs)\u001b[0m\n\u001b[0;32m    289\u001b[0m             \u001b[0mkwargs\u001b[0m\u001b[1;33m.\u001b[0m\u001b[0mupdate\u001b[0m\u001b[1;33m(\u001b[0m\u001b[0margs\u001b[0m\u001b[1;33m)\u001b[0m\u001b[1;33m\u001b[0m\u001b[1;33m\u001b[0m\u001b[0m\n\u001b[0;32m    290\u001b[0m \u001b[1;33m\u001b[0m\u001b[0m\n\u001b[1;32m--> 291\u001b[1;33m         \u001b[1;32mreturn\u001b[0m \u001b[0mself\u001b[0m\u001b[1;33m.\u001b[0m\u001b[0m_internal_call\u001b[0m\u001b[1;33m(\u001b[0m\u001b[1;34m\"GET\"\u001b[0m\u001b[1;33m,\u001b[0m \u001b[0murl\u001b[0m\u001b[1;33m,\u001b[0m \u001b[0mpayload\u001b[0m\u001b[1;33m,\u001b[0m \u001b[0mkwargs\u001b[0m\u001b[1;33m)\u001b[0m\u001b[1;33m\u001b[0m\u001b[1;33m\u001b[0m\u001b[0m\n\u001b[0m\u001b[0;32m    292\u001b[0m \u001b[1;33m\u001b[0m\u001b[0m\n\u001b[0;32m    293\u001b[0m     \u001b[1;32mdef\u001b[0m \u001b[0m_post\u001b[0m\u001b[1;33m(\u001b[0m\u001b[0mself\u001b[0m\u001b[1;33m,\u001b[0m \u001b[0murl\u001b[0m\u001b[1;33m,\u001b[0m \u001b[0margs\u001b[0m\u001b[1;33m=\u001b[0m\u001b[1;32mNone\u001b[0m\u001b[1;33m,\u001b[0m \u001b[0mpayload\u001b[0m\u001b[1;33m=\u001b[0m\u001b[1;32mNone\u001b[0m\u001b[1;33m,\u001b[0m \u001b[1;33m**\u001b[0m\u001b[0mkwargs\u001b[0m\u001b[1;33m)\u001b[0m\u001b[1;33m:\u001b[0m\u001b[1;33m\u001b[0m\u001b[1;33m\u001b[0m\u001b[0m\n",
      "\u001b[1;32m~\\AppData\\Local\\Programs\\Python\\Python38\\lib\\site-packages\\spotipy\\client.py\u001b[0m in \u001b[0;36m_internal_call\u001b[1;34m(self, method, url, payload, params)\u001b[0m\n\u001b[0;32m    238\u001b[0m \u001b[1;33m\u001b[0m\u001b[0m\n\u001b[0;32m    239\u001b[0m         \u001b[1;32mtry\u001b[0m\u001b[1;33m:\u001b[0m\u001b[1;33m\u001b[0m\u001b[1;33m\u001b[0m\u001b[0m\n\u001b[1;32m--> 240\u001b[1;33m             response = self._session.request(\n\u001b[0m\u001b[0;32m    241\u001b[0m                 \u001b[0mmethod\u001b[0m\u001b[1;33m,\u001b[0m \u001b[0murl\u001b[0m\u001b[1;33m,\u001b[0m \u001b[0mheaders\u001b[0m\u001b[1;33m=\u001b[0m\u001b[0mheaders\u001b[0m\u001b[1;33m,\u001b[0m \u001b[0mproxies\u001b[0m\u001b[1;33m=\u001b[0m\u001b[0mself\u001b[0m\u001b[1;33m.\u001b[0m\u001b[0mproxies\u001b[0m\u001b[1;33m,\u001b[0m\u001b[1;33m\u001b[0m\u001b[1;33m\u001b[0m\u001b[0m\n\u001b[0;32m    242\u001b[0m                 \u001b[0mtimeout\u001b[0m\u001b[1;33m=\u001b[0m\u001b[0mself\u001b[0m\u001b[1;33m.\u001b[0m\u001b[0mrequests_timeout\u001b[0m\u001b[1;33m,\u001b[0m \u001b[1;33m**\u001b[0m\u001b[0margs\u001b[0m\u001b[1;33m\u001b[0m\u001b[1;33m\u001b[0m\u001b[0m\n",
      "\u001b[1;32m~\\AppData\\Local\\Programs\\Python\\Python38\\lib\\site-packages\\requests\\sessions.py\u001b[0m in \u001b[0;36mrequest\u001b[1;34m(self, method, url, params, data, headers, cookies, files, auth, timeout, allow_redirects, proxies, hooks, stream, verify, cert, json)\u001b[0m\n\u001b[0;32m    540\u001b[0m         }\n\u001b[0;32m    541\u001b[0m         \u001b[0msend_kwargs\u001b[0m\u001b[1;33m.\u001b[0m\u001b[0mupdate\u001b[0m\u001b[1;33m(\u001b[0m\u001b[0msettings\u001b[0m\u001b[1;33m)\u001b[0m\u001b[1;33m\u001b[0m\u001b[1;33m\u001b[0m\u001b[0m\n\u001b[1;32m--> 542\u001b[1;33m         \u001b[0mresp\u001b[0m \u001b[1;33m=\u001b[0m \u001b[0mself\u001b[0m\u001b[1;33m.\u001b[0m\u001b[0msend\u001b[0m\u001b[1;33m(\u001b[0m\u001b[0mprep\u001b[0m\u001b[1;33m,\u001b[0m \u001b[1;33m**\u001b[0m\u001b[0msend_kwargs\u001b[0m\u001b[1;33m)\u001b[0m\u001b[1;33m\u001b[0m\u001b[1;33m\u001b[0m\u001b[0m\n\u001b[0m\u001b[0;32m    543\u001b[0m \u001b[1;33m\u001b[0m\u001b[0m\n\u001b[0;32m    544\u001b[0m         \u001b[1;32mreturn\u001b[0m \u001b[0mresp\u001b[0m\u001b[1;33m\u001b[0m\u001b[1;33m\u001b[0m\u001b[0m\n",
      "\u001b[1;32m~\\AppData\\Local\\Programs\\Python\\Python38\\lib\\site-packages\\requests\\sessions.py\u001b[0m in \u001b[0;36msend\u001b[1;34m(self, request, **kwargs)\u001b[0m\n\u001b[0;32m    653\u001b[0m \u001b[1;33m\u001b[0m\u001b[0m\n\u001b[0;32m    654\u001b[0m         \u001b[1;31m# Send the request\u001b[0m\u001b[1;33m\u001b[0m\u001b[1;33m\u001b[0m\u001b[1;33m\u001b[0m\u001b[0m\n\u001b[1;32m--> 655\u001b[1;33m         \u001b[0mr\u001b[0m \u001b[1;33m=\u001b[0m \u001b[0madapter\u001b[0m\u001b[1;33m.\u001b[0m\u001b[0msend\u001b[0m\u001b[1;33m(\u001b[0m\u001b[0mrequest\u001b[0m\u001b[1;33m,\u001b[0m \u001b[1;33m**\u001b[0m\u001b[0mkwargs\u001b[0m\u001b[1;33m)\u001b[0m\u001b[1;33m\u001b[0m\u001b[1;33m\u001b[0m\u001b[0m\n\u001b[0m\u001b[0;32m    656\u001b[0m \u001b[1;33m\u001b[0m\u001b[0m\n\u001b[0;32m    657\u001b[0m         \u001b[1;31m# Total elapsed time of the request (approximately)\u001b[0m\u001b[1;33m\u001b[0m\u001b[1;33m\u001b[0m\u001b[1;33m\u001b[0m\u001b[0m\n",
      "\u001b[1;32m~\\AppData\\Local\\Programs\\Python\\Python38\\lib\\site-packages\\requests\\adapters.py\u001b[0m in \u001b[0;36msend\u001b[1;34m(self, request, stream, timeout, verify, cert, proxies)\u001b[0m\n\u001b[0;32m    437\u001b[0m         \u001b[1;32mtry\u001b[0m\u001b[1;33m:\u001b[0m\u001b[1;33m\u001b[0m\u001b[1;33m\u001b[0m\u001b[0m\n\u001b[0;32m    438\u001b[0m             \u001b[1;32mif\u001b[0m \u001b[1;32mnot\u001b[0m \u001b[0mchunked\u001b[0m\u001b[1;33m:\u001b[0m\u001b[1;33m\u001b[0m\u001b[1;33m\u001b[0m\u001b[0m\n\u001b[1;32m--> 439\u001b[1;33m                 resp = conn.urlopen(\n\u001b[0m\u001b[0;32m    440\u001b[0m                     \u001b[0mmethod\u001b[0m\u001b[1;33m=\u001b[0m\u001b[0mrequest\u001b[0m\u001b[1;33m.\u001b[0m\u001b[0mmethod\u001b[0m\u001b[1;33m,\u001b[0m\u001b[1;33m\u001b[0m\u001b[1;33m\u001b[0m\u001b[0m\n\u001b[0;32m    441\u001b[0m                     \u001b[0murl\u001b[0m\u001b[1;33m=\u001b[0m\u001b[0murl\u001b[0m\u001b[1;33m,\u001b[0m\u001b[1;33m\u001b[0m\u001b[1;33m\u001b[0m\u001b[0m\n",
      "\u001b[1;32m~\\AppData\\Local\\Programs\\Python\\Python38\\lib\\site-packages\\urllib3\\connectionpool.py\u001b[0m in \u001b[0;36murlopen\u001b[1;34m(self, method, url, body, headers, retries, redirect, assert_same_host, timeout, pool_timeout, release_conn, chunked, body_pos, **response_kw)\u001b[0m\n\u001b[0;32m    697\u001b[0m \u001b[1;33m\u001b[0m\u001b[0m\n\u001b[0;32m    698\u001b[0m             \u001b[1;31m# Make the request on the httplib connection object.\u001b[0m\u001b[1;33m\u001b[0m\u001b[1;33m\u001b[0m\u001b[1;33m\u001b[0m\u001b[0m\n\u001b[1;32m--> 699\u001b[1;33m             httplib_response = self._make_request(\n\u001b[0m\u001b[0;32m    700\u001b[0m                 \u001b[0mconn\u001b[0m\u001b[1;33m,\u001b[0m\u001b[1;33m\u001b[0m\u001b[1;33m\u001b[0m\u001b[0m\n\u001b[0;32m    701\u001b[0m                 \u001b[0mmethod\u001b[0m\u001b[1;33m,\u001b[0m\u001b[1;33m\u001b[0m\u001b[1;33m\u001b[0m\u001b[0m\n",
      "\u001b[1;32m~\\AppData\\Local\\Programs\\Python\\Python38\\lib\\site-packages\\urllib3\\connectionpool.py\u001b[0m in \u001b[0;36m_make_request\u001b[1;34m(self, conn, method, url, timeout, chunked, **httplib_request_kw)\u001b[0m\n\u001b[0;32m    443\u001b[0m                     \u001b[1;31m# Python 3 (including for exceptions like SystemExit).\u001b[0m\u001b[1;33m\u001b[0m\u001b[1;33m\u001b[0m\u001b[1;33m\u001b[0m\u001b[0m\n\u001b[0;32m    444\u001b[0m                     \u001b[1;31m# Otherwise it looks like a bug in the code.\u001b[0m\u001b[1;33m\u001b[0m\u001b[1;33m\u001b[0m\u001b[1;33m\u001b[0m\u001b[0m\n\u001b[1;32m--> 445\u001b[1;33m                     \u001b[0msix\u001b[0m\u001b[1;33m.\u001b[0m\u001b[0mraise_from\u001b[0m\u001b[1;33m(\u001b[0m\u001b[0me\u001b[0m\u001b[1;33m,\u001b[0m \u001b[1;32mNone\u001b[0m\u001b[1;33m)\u001b[0m\u001b[1;33m\u001b[0m\u001b[1;33m\u001b[0m\u001b[0m\n\u001b[0m\u001b[0;32m    446\u001b[0m         \u001b[1;32mexcept\u001b[0m \u001b[1;33m(\u001b[0m\u001b[0mSocketTimeout\u001b[0m\u001b[1;33m,\u001b[0m \u001b[0mBaseSSLError\u001b[0m\u001b[1;33m,\u001b[0m \u001b[0mSocketError\u001b[0m\u001b[1;33m)\u001b[0m \u001b[1;32mas\u001b[0m \u001b[0me\u001b[0m\u001b[1;33m:\u001b[0m\u001b[1;33m\u001b[0m\u001b[1;33m\u001b[0m\u001b[0m\n\u001b[0;32m    447\u001b[0m             \u001b[0mself\u001b[0m\u001b[1;33m.\u001b[0m\u001b[0m_raise_timeout\u001b[0m\u001b[1;33m(\u001b[0m\u001b[0merr\u001b[0m\u001b[1;33m=\u001b[0m\u001b[0me\u001b[0m\u001b[1;33m,\u001b[0m \u001b[0murl\u001b[0m\u001b[1;33m=\u001b[0m\u001b[0murl\u001b[0m\u001b[1;33m,\u001b[0m \u001b[0mtimeout_value\u001b[0m\u001b[1;33m=\u001b[0m\u001b[0mread_timeout\u001b[0m\u001b[1;33m)\u001b[0m\u001b[1;33m\u001b[0m\u001b[1;33m\u001b[0m\u001b[0m\n",
      "\u001b[1;32m~\\AppData\\Local\\Programs\\Python\\Python38\\lib\\site-packages\\urllib3\\packages\\six.py\u001b[0m in \u001b[0;36mraise_from\u001b[1;34m(value, from_value)\u001b[0m\n",
      "\u001b[1;32m~\\AppData\\Local\\Programs\\Python\\Python38\\lib\\site-packages\\urllib3\\connectionpool.py\u001b[0m in \u001b[0;36m_make_request\u001b[1;34m(self, conn, method, url, timeout, chunked, **httplib_request_kw)\u001b[0m\n\u001b[0;32m    438\u001b[0m                 \u001b[1;31m# Python 3\u001b[0m\u001b[1;33m\u001b[0m\u001b[1;33m\u001b[0m\u001b[1;33m\u001b[0m\u001b[0m\n\u001b[0;32m    439\u001b[0m                 \u001b[1;32mtry\u001b[0m\u001b[1;33m:\u001b[0m\u001b[1;33m\u001b[0m\u001b[1;33m\u001b[0m\u001b[0m\n\u001b[1;32m--> 440\u001b[1;33m                     \u001b[0mhttplib_response\u001b[0m \u001b[1;33m=\u001b[0m \u001b[0mconn\u001b[0m\u001b[1;33m.\u001b[0m\u001b[0mgetresponse\u001b[0m\u001b[1;33m(\u001b[0m\u001b[1;33m)\u001b[0m\u001b[1;33m\u001b[0m\u001b[1;33m\u001b[0m\u001b[0m\n\u001b[0m\u001b[0;32m    441\u001b[0m                 \u001b[1;32mexcept\u001b[0m \u001b[0mBaseException\u001b[0m \u001b[1;32mas\u001b[0m \u001b[0me\u001b[0m\u001b[1;33m:\u001b[0m\u001b[1;33m\u001b[0m\u001b[1;33m\u001b[0m\u001b[0m\n\u001b[0;32m    442\u001b[0m                     \u001b[1;31m# Remove the TypeError from the exception chain in\u001b[0m\u001b[1;33m\u001b[0m\u001b[1;33m\u001b[0m\u001b[1;33m\u001b[0m\u001b[0m\n",
      "\u001b[1;32m~\\AppData\\Local\\Programs\\Python\\Python38\\lib\\http\\client.py\u001b[0m in \u001b[0;36mgetresponse\u001b[1;34m(self)\u001b[0m\n\u001b[0;32m   1345\u001b[0m         \u001b[1;32mtry\u001b[0m\u001b[1;33m:\u001b[0m\u001b[1;33m\u001b[0m\u001b[1;33m\u001b[0m\u001b[0m\n\u001b[0;32m   1346\u001b[0m             \u001b[1;32mtry\u001b[0m\u001b[1;33m:\u001b[0m\u001b[1;33m\u001b[0m\u001b[1;33m\u001b[0m\u001b[0m\n\u001b[1;32m-> 1347\u001b[1;33m                 \u001b[0mresponse\u001b[0m\u001b[1;33m.\u001b[0m\u001b[0mbegin\u001b[0m\u001b[1;33m(\u001b[0m\u001b[1;33m)\u001b[0m\u001b[1;33m\u001b[0m\u001b[1;33m\u001b[0m\u001b[0m\n\u001b[0m\u001b[0;32m   1348\u001b[0m             \u001b[1;32mexcept\u001b[0m \u001b[0mConnectionError\u001b[0m\u001b[1;33m:\u001b[0m\u001b[1;33m\u001b[0m\u001b[1;33m\u001b[0m\u001b[0m\n\u001b[0;32m   1349\u001b[0m                 \u001b[0mself\u001b[0m\u001b[1;33m.\u001b[0m\u001b[0mclose\u001b[0m\u001b[1;33m(\u001b[0m\u001b[1;33m)\u001b[0m\u001b[1;33m\u001b[0m\u001b[1;33m\u001b[0m\u001b[0m\n",
      "\u001b[1;32m~\\AppData\\Local\\Programs\\Python\\Python38\\lib\\http\\client.py\u001b[0m in \u001b[0;36mbegin\u001b[1;34m(self)\u001b[0m\n\u001b[0;32m    305\u001b[0m         \u001b[1;31m# read until we get a non-100 response\u001b[0m\u001b[1;33m\u001b[0m\u001b[1;33m\u001b[0m\u001b[1;33m\u001b[0m\u001b[0m\n\u001b[0;32m    306\u001b[0m         \u001b[1;32mwhile\u001b[0m \u001b[1;32mTrue\u001b[0m\u001b[1;33m:\u001b[0m\u001b[1;33m\u001b[0m\u001b[1;33m\u001b[0m\u001b[0m\n\u001b[1;32m--> 307\u001b[1;33m             \u001b[0mversion\u001b[0m\u001b[1;33m,\u001b[0m \u001b[0mstatus\u001b[0m\u001b[1;33m,\u001b[0m \u001b[0mreason\u001b[0m \u001b[1;33m=\u001b[0m \u001b[0mself\u001b[0m\u001b[1;33m.\u001b[0m\u001b[0m_read_status\u001b[0m\u001b[1;33m(\u001b[0m\u001b[1;33m)\u001b[0m\u001b[1;33m\u001b[0m\u001b[1;33m\u001b[0m\u001b[0m\n\u001b[0m\u001b[0;32m    308\u001b[0m             \u001b[1;32mif\u001b[0m \u001b[0mstatus\u001b[0m \u001b[1;33m!=\u001b[0m \u001b[0mCONTINUE\u001b[0m\u001b[1;33m:\u001b[0m\u001b[1;33m\u001b[0m\u001b[1;33m\u001b[0m\u001b[0m\n\u001b[0;32m    309\u001b[0m                 \u001b[1;32mbreak\u001b[0m\u001b[1;33m\u001b[0m\u001b[1;33m\u001b[0m\u001b[0m\n",
      "\u001b[1;32m~\\AppData\\Local\\Programs\\Python\\Python38\\lib\\http\\client.py\u001b[0m in \u001b[0;36m_read_status\u001b[1;34m(self)\u001b[0m\n\u001b[0;32m    266\u001b[0m \u001b[1;33m\u001b[0m\u001b[0m\n\u001b[0;32m    267\u001b[0m     \u001b[1;32mdef\u001b[0m \u001b[0m_read_status\u001b[0m\u001b[1;33m(\u001b[0m\u001b[0mself\u001b[0m\u001b[1;33m)\u001b[0m\u001b[1;33m:\u001b[0m\u001b[1;33m\u001b[0m\u001b[1;33m\u001b[0m\u001b[0m\n\u001b[1;32m--> 268\u001b[1;33m         \u001b[0mline\u001b[0m \u001b[1;33m=\u001b[0m \u001b[0mstr\u001b[0m\u001b[1;33m(\u001b[0m\u001b[0mself\u001b[0m\u001b[1;33m.\u001b[0m\u001b[0mfp\u001b[0m\u001b[1;33m.\u001b[0m\u001b[0mreadline\u001b[0m\u001b[1;33m(\u001b[0m\u001b[0m_MAXLINE\u001b[0m \u001b[1;33m+\u001b[0m \u001b[1;36m1\u001b[0m\u001b[1;33m)\u001b[0m\u001b[1;33m,\u001b[0m \u001b[1;34m\"iso-8859-1\"\u001b[0m\u001b[1;33m)\u001b[0m\u001b[1;33m\u001b[0m\u001b[1;33m\u001b[0m\u001b[0m\n\u001b[0m\u001b[0;32m    269\u001b[0m         \u001b[1;32mif\u001b[0m \u001b[0mlen\u001b[0m\u001b[1;33m(\u001b[0m\u001b[0mline\u001b[0m\u001b[1;33m)\u001b[0m \u001b[1;33m>\u001b[0m \u001b[0m_MAXLINE\u001b[0m\u001b[1;33m:\u001b[0m\u001b[1;33m\u001b[0m\u001b[1;33m\u001b[0m\u001b[0m\n\u001b[0;32m    270\u001b[0m             \u001b[1;32mraise\u001b[0m \u001b[0mLineTooLong\u001b[0m\u001b[1;33m(\u001b[0m\u001b[1;34m\"status line\"\u001b[0m\u001b[1;33m)\u001b[0m\u001b[1;33m\u001b[0m\u001b[1;33m\u001b[0m\u001b[0m\n",
      "\u001b[1;32m~\\AppData\\Local\\Programs\\Python\\Python38\\lib\\socket.py\u001b[0m in \u001b[0;36mreadinto\u001b[1;34m(self, b)\u001b[0m\n\u001b[0;32m    667\u001b[0m         \u001b[1;32mwhile\u001b[0m \u001b[1;32mTrue\u001b[0m\u001b[1;33m:\u001b[0m\u001b[1;33m\u001b[0m\u001b[1;33m\u001b[0m\u001b[0m\n\u001b[0;32m    668\u001b[0m             \u001b[1;32mtry\u001b[0m\u001b[1;33m:\u001b[0m\u001b[1;33m\u001b[0m\u001b[1;33m\u001b[0m\u001b[0m\n\u001b[1;32m--> 669\u001b[1;33m                 \u001b[1;32mreturn\u001b[0m \u001b[0mself\u001b[0m\u001b[1;33m.\u001b[0m\u001b[0m_sock\u001b[0m\u001b[1;33m.\u001b[0m\u001b[0mrecv_into\u001b[0m\u001b[1;33m(\u001b[0m\u001b[0mb\u001b[0m\u001b[1;33m)\u001b[0m\u001b[1;33m\u001b[0m\u001b[1;33m\u001b[0m\u001b[0m\n\u001b[0m\u001b[0;32m    670\u001b[0m             \u001b[1;32mexcept\u001b[0m \u001b[0mtimeout\u001b[0m\u001b[1;33m:\u001b[0m\u001b[1;33m\u001b[0m\u001b[1;33m\u001b[0m\u001b[0m\n\u001b[0;32m    671\u001b[0m                 \u001b[0mself\u001b[0m\u001b[1;33m.\u001b[0m\u001b[0m_timeout_occurred\u001b[0m \u001b[1;33m=\u001b[0m \u001b[1;32mTrue\u001b[0m\u001b[1;33m\u001b[0m\u001b[1;33m\u001b[0m\u001b[0m\n",
      "\u001b[1;32m~\\AppData\\Local\\Programs\\Python\\Python38\\lib\\ssl.py\u001b[0m in \u001b[0;36mrecv_into\u001b[1;34m(self, buffer, nbytes, flags)\u001b[0m\n\u001b[0;32m   1239\u001b[0m                   \u001b[1;34m\"non-zero flags not allowed in calls to recv_into() on %s\"\u001b[0m \u001b[1;33m%\u001b[0m\u001b[1;33m\u001b[0m\u001b[1;33m\u001b[0m\u001b[0m\n\u001b[0;32m   1240\u001b[0m                   self.__class__)\n\u001b[1;32m-> 1241\u001b[1;33m             \u001b[1;32mreturn\u001b[0m \u001b[0mself\u001b[0m\u001b[1;33m.\u001b[0m\u001b[0mread\u001b[0m\u001b[1;33m(\u001b[0m\u001b[0mnbytes\u001b[0m\u001b[1;33m,\u001b[0m \u001b[0mbuffer\u001b[0m\u001b[1;33m)\u001b[0m\u001b[1;33m\u001b[0m\u001b[1;33m\u001b[0m\u001b[0m\n\u001b[0m\u001b[0;32m   1242\u001b[0m         \u001b[1;32melse\u001b[0m\u001b[1;33m:\u001b[0m\u001b[1;33m\u001b[0m\u001b[1;33m\u001b[0m\u001b[0m\n\u001b[0;32m   1243\u001b[0m             \u001b[1;32mreturn\u001b[0m \u001b[0msuper\u001b[0m\u001b[1;33m(\u001b[0m\u001b[1;33m)\u001b[0m\u001b[1;33m.\u001b[0m\u001b[0mrecv_into\u001b[0m\u001b[1;33m(\u001b[0m\u001b[0mbuffer\u001b[0m\u001b[1;33m,\u001b[0m \u001b[0mnbytes\u001b[0m\u001b[1;33m,\u001b[0m \u001b[0mflags\u001b[0m\u001b[1;33m)\u001b[0m\u001b[1;33m\u001b[0m\u001b[1;33m\u001b[0m\u001b[0m\n",
      "\u001b[1;32m~\\AppData\\Local\\Programs\\Python\\Python38\\lib\\ssl.py\u001b[0m in \u001b[0;36mread\u001b[1;34m(self, len, buffer)\u001b[0m\n\u001b[0;32m   1097\u001b[0m         \u001b[1;32mtry\u001b[0m\u001b[1;33m:\u001b[0m\u001b[1;33m\u001b[0m\u001b[1;33m\u001b[0m\u001b[0m\n\u001b[0;32m   1098\u001b[0m             \u001b[1;32mif\u001b[0m \u001b[0mbuffer\u001b[0m \u001b[1;32mis\u001b[0m \u001b[1;32mnot\u001b[0m \u001b[1;32mNone\u001b[0m\u001b[1;33m:\u001b[0m\u001b[1;33m\u001b[0m\u001b[1;33m\u001b[0m\u001b[0m\n\u001b[1;32m-> 1099\u001b[1;33m                 \u001b[1;32mreturn\u001b[0m \u001b[0mself\u001b[0m\u001b[1;33m.\u001b[0m\u001b[0m_sslobj\u001b[0m\u001b[1;33m.\u001b[0m\u001b[0mread\u001b[0m\u001b[1;33m(\u001b[0m\u001b[0mlen\u001b[0m\u001b[1;33m,\u001b[0m \u001b[0mbuffer\u001b[0m\u001b[1;33m)\u001b[0m\u001b[1;33m\u001b[0m\u001b[1;33m\u001b[0m\u001b[0m\n\u001b[0m\u001b[0;32m   1100\u001b[0m             \u001b[1;32melse\u001b[0m\u001b[1;33m:\u001b[0m\u001b[1;33m\u001b[0m\u001b[1;33m\u001b[0m\u001b[0m\n\u001b[0;32m   1101\u001b[0m                 \u001b[1;32mreturn\u001b[0m \u001b[0mself\u001b[0m\u001b[1;33m.\u001b[0m\u001b[0m_sslobj\u001b[0m\u001b[1;33m.\u001b[0m\u001b[0mread\u001b[0m\u001b[1;33m(\u001b[0m\u001b[0mlen\u001b[0m\u001b[1;33m)\u001b[0m\u001b[1;33m\u001b[0m\u001b[1;33m\u001b[0m\u001b[0m\n",
      "\u001b[1;31mKeyboardInterrupt\u001b[0m: "
     ]
    }
   ],
   "source": [
    "url_list = []\n",
    "for batch_i in tqdm(range(len(new_df[\"id\"])//50+1)):\n",
    "    tracks = new_df[\"id\"][batch_i*50:batch_i*50+50]\n",
    "    result = sp.tracks(tracks=tracks)\n",
    "    for i in range(len(result[\"tracks\"])):\n",
    "        new_df.loc[batch_i*50+i,\"sample_mp3_url\"]=result[\"tracks\"][i][\"preview_url\"]\n",
    "    new_df[batch_i*50:batch_i*50+50].to_csv(\"dataset/tracks_url.csv\",mode='a', index=False, header=False)"
   ]
  },
  {
   "cell_type": "code",
   "execution_count": 12,
   "metadata": {},
   "outputs": [],
   "source": [
    "new_df=new_df[50:].reset_index(drop=True)"
   ]
  },
  {
   "cell_type": "code",
   "execution_count": 13,
   "metadata": {},
   "outputs": [
    {
     "output_type": "execute_result",
     "data": {
      "text/plain": [
       "        level_0   index                      id  explicit  danceability  \\\n",
       "0            50     150  3eMrYc092k7SIJfWJ7oasR         0         0.831   \n",
       "1            51     151  2AZgaYZSwUosJD71J2N2Zo         0         0.537   \n",
       "2            52     152  7lRFR5GJCxK87ZbVMtQSeS         0         0.665   \n",
       "3            53     153  6XTvSCqGLLH0vzQQRn55hz         0         0.709   \n",
       "4            54     154  6qRvnXftofjYJm1Mg98UWL         0         0.693   \n",
       "...         ...     ...                     ...       ...           ...   \n",
       "586517   586567  586667  5rgu12WBIHQtvej2MdHSH0         0         0.560   \n",
       "586518   586568  586668  0NuWgxEp51CutD2pJoF4OM         0         0.765   \n",
       "586519   586569  586669  27Y1N4Q4U3EfDU5Ubw8ws2         0         0.535   \n",
       "586520   586570  586670  45XJsGpFTyzbzeWK8VzR8S         0         0.696   \n",
       "586521   586571  586671  5Ocn6dZ3BJFPWh4ylwFXtn         0         0.686   \n",
       "\n",
       "        energy  key  loudness  mode  speechiness  acousticness  \\\n",
       "0       0.2620    8   -12.386     1       0.0942         0.984   \n",
       "1       0.0443    3   -16.474     0       0.0343         0.996   \n",
       "2       0.2540    8    -9.879     1       0.1080         0.976   \n",
       "3       0.0620    5   -12.207     1       0.0480         0.995   \n",
       "4       0.0270    0   -13.506     0       0.0562         0.992   \n",
       "...        ...  ...       ...   ...          ...           ...   \n",
       "586517  0.5180    0    -7.471     0       0.0292         0.785   \n",
       "586518  0.6630    0    -5.223     1       0.0652         0.141   \n",
       "586519  0.3140    7   -12.823     0       0.0408         0.895   \n",
       "586520  0.6150   10    -6.212     1       0.0345         0.206   \n",
       "586521  0.7230    6    -7.067     1       0.0363         0.105   \n",
       "\n",
       "        instrumentalness  liveness  valence    tempo  time_signature  \\\n",
       "0               0.912000    0.2040   0.9010  104.606               4   \n",
       "1               0.000265    0.1520   0.1370   80.468               4   \n",
       "2               0.002170    0.6440   0.5030  125.734               4   \n",
       "3               0.003410    0.1200   0.5530   85.854               4   \n",
       "4               0.000000    0.1340   0.4020   75.749               4   \n",
       "...                  ...       ...      ...      ...             ...   \n",
       "586517          0.000000    0.0648   0.2110  131.896               4   \n",
       "586518          0.000297    0.0924   0.6860  150.091               4   \n",
       "586519          0.000150    0.0874   0.0663  145.095               4   \n",
       "586520          0.000003    0.3050   0.4380   90.029               4   \n",
       "586521          0.000000    0.2640   0.9750  112.204               4   \n",
       "\n",
       "       sample_mp3_url  \n",
       "0                      \n",
       "1                      \n",
       "2                      \n",
       "3                      \n",
       "4                      \n",
       "...               ...  \n",
       "586517                 \n",
       "586518                 \n",
       "586519                 \n",
       "586520                 \n",
       "586521                 \n",
       "\n",
       "[586522 rows x 17 columns]"
      ],
      "text/html": "<div>\n<style scoped>\n    .dataframe tbody tr th:only-of-type {\n        vertical-align: middle;\n    }\n\n    .dataframe tbody tr th {\n        vertical-align: top;\n    }\n\n    .dataframe thead th {\n        text-align: right;\n    }\n</style>\n<table border=\"1\" class=\"dataframe\">\n  <thead>\n    <tr style=\"text-align: right;\">\n      <th></th>\n      <th>level_0</th>\n      <th>index</th>\n      <th>id</th>\n      <th>explicit</th>\n      <th>danceability</th>\n      <th>energy</th>\n      <th>key</th>\n      <th>loudness</th>\n      <th>mode</th>\n      <th>speechiness</th>\n      <th>acousticness</th>\n      <th>instrumentalness</th>\n      <th>liveness</th>\n      <th>valence</th>\n      <th>tempo</th>\n      <th>time_signature</th>\n      <th>sample_mp3_url</th>\n    </tr>\n  </thead>\n  <tbody>\n    <tr>\n      <th>0</th>\n      <td>50</td>\n      <td>150</td>\n      <td>3eMrYc092k7SIJfWJ7oasR</td>\n      <td>0</td>\n      <td>0.831</td>\n      <td>0.2620</td>\n      <td>8</td>\n      <td>-12.386</td>\n      <td>1</td>\n      <td>0.0942</td>\n      <td>0.984</td>\n      <td>0.912000</td>\n      <td>0.2040</td>\n      <td>0.9010</td>\n      <td>104.606</td>\n      <td>4</td>\n      <td></td>\n    </tr>\n    <tr>\n      <th>1</th>\n      <td>51</td>\n      <td>151</td>\n      <td>2AZgaYZSwUosJD71J2N2Zo</td>\n      <td>0</td>\n      <td>0.537</td>\n      <td>0.0443</td>\n      <td>3</td>\n      <td>-16.474</td>\n      <td>0</td>\n      <td>0.0343</td>\n      <td>0.996</td>\n      <td>0.000265</td>\n      <td>0.1520</td>\n      <td>0.1370</td>\n      <td>80.468</td>\n      <td>4</td>\n      <td></td>\n    </tr>\n    <tr>\n      <th>2</th>\n      <td>52</td>\n      <td>152</td>\n      <td>7lRFR5GJCxK87ZbVMtQSeS</td>\n      <td>0</td>\n      <td>0.665</td>\n      <td>0.2540</td>\n      <td>8</td>\n      <td>-9.879</td>\n      <td>1</td>\n      <td>0.1080</td>\n      <td>0.976</td>\n      <td>0.002170</td>\n      <td>0.6440</td>\n      <td>0.5030</td>\n      <td>125.734</td>\n      <td>4</td>\n      <td></td>\n    </tr>\n    <tr>\n      <th>3</th>\n      <td>53</td>\n      <td>153</td>\n      <td>6XTvSCqGLLH0vzQQRn55hz</td>\n      <td>0</td>\n      <td>0.709</td>\n      <td>0.0620</td>\n      <td>5</td>\n      <td>-12.207</td>\n      <td>1</td>\n      <td>0.0480</td>\n      <td>0.995</td>\n      <td>0.003410</td>\n      <td>0.1200</td>\n      <td>0.5530</td>\n      <td>85.854</td>\n      <td>4</td>\n      <td></td>\n    </tr>\n    <tr>\n      <th>4</th>\n      <td>54</td>\n      <td>154</td>\n      <td>6qRvnXftofjYJm1Mg98UWL</td>\n      <td>0</td>\n      <td>0.693</td>\n      <td>0.0270</td>\n      <td>0</td>\n      <td>-13.506</td>\n      <td>0</td>\n      <td>0.0562</td>\n      <td>0.992</td>\n      <td>0.000000</td>\n      <td>0.1340</td>\n      <td>0.4020</td>\n      <td>75.749</td>\n      <td>4</td>\n      <td></td>\n    </tr>\n    <tr>\n      <th>...</th>\n      <td>...</td>\n      <td>...</td>\n      <td>...</td>\n      <td>...</td>\n      <td>...</td>\n      <td>...</td>\n      <td>...</td>\n      <td>...</td>\n      <td>...</td>\n      <td>...</td>\n      <td>...</td>\n      <td>...</td>\n      <td>...</td>\n      <td>...</td>\n      <td>...</td>\n      <td>...</td>\n      <td>...</td>\n    </tr>\n    <tr>\n      <th>586517</th>\n      <td>586567</td>\n      <td>586667</td>\n      <td>5rgu12WBIHQtvej2MdHSH0</td>\n      <td>0</td>\n      <td>0.560</td>\n      <td>0.5180</td>\n      <td>0</td>\n      <td>-7.471</td>\n      <td>0</td>\n      <td>0.0292</td>\n      <td>0.785</td>\n      <td>0.000000</td>\n      <td>0.0648</td>\n      <td>0.2110</td>\n      <td>131.896</td>\n      <td>4</td>\n      <td></td>\n    </tr>\n    <tr>\n      <th>586518</th>\n      <td>586568</td>\n      <td>586668</td>\n      <td>0NuWgxEp51CutD2pJoF4OM</td>\n      <td>0</td>\n      <td>0.765</td>\n      <td>0.6630</td>\n      <td>0</td>\n      <td>-5.223</td>\n      <td>1</td>\n      <td>0.0652</td>\n      <td>0.141</td>\n      <td>0.000297</td>\n      <td>0.0924</td>\n      <td>0.6860</td>\n      <td>150.091</td>\n      <td>4</td>\n      <td></td>\n    </tr>\n    <tr>\n      <th>586519</th>\n      <td>586569</td>\n      <td>586669</td>\n      <td>27Y1N4Q4U3EfDU5Ubw8ws2</td>\n      <td>0</td>\n      <td>0.535</td>\n      <td>0.3140</td>\n      <td>7</td>\n      <td>-12.823</td>\n      <td>0</td>\n      <td>0.0408</td>\n      <td>0.895</td>\n      <td>0.000150</td>\n      <td>0.0874</td>\n      <td>0.0663</td>\n      <td>145.095</td>\n      <td>4</td>\n      <td></td>\n    </tr>\n    <tr>\n      <th>586520</th>\n      <td>586570</td>\n      <td>586670</td>\n      <td>45XJsGpFTyzbzeWK8VzR8S</td>\n      <td>0</td>\n      <td>0.696</td>\n      <td>0.6150</td>\n      <td>10</td>\n      <td>-6.212</td>\n      <td>1</td>\n      <td>0.0345</td>\n      <td>0.206</td>\n      <td>0.000003</td>\n      <td>0.3050</td>\n      <td>0.4380</td>\n      <td>90.029</td>\n      <td>4</td>\n      <td></td>\n    </tr>\n    <tr>\n      <th>586521</th>\n      <td>586571</td>\n      <td>586671</td>\n      <td>5Ocn6dZ3BJFPWh4ylwFXtn</td>\n      <td>0</td>\n      <td>0.686</td>\n      <td>0.7230</td>\n      <td>6</td>\n      <td>-7.067</td>\n      <td>1</td>\n      <td>0.0363</td>\n      <td>0.105</td>\n      <td>0.000000</td>\n      <td>0.2640</td>\n      <td>0.9750</td>\n      <td>112.204</td>\n      <td>4</td>\n      <td></td>\n    </tr>\n  </tbody>\n</table>\n<p>586522 rows × 17 columns</p>\n</div>"
     },
     "metadata": {},
     "execution_count": 13
    }
   ],
   "source": [
    "new_df"
   ]
  },
  {
   "cell_type": "code",
   "execution_count": null,
   "metadata": {},
   "outputs": [],
   "source": []
  }
 ]
}